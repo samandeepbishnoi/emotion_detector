{
 "cells": [
  {
   "cell_type": "code",
   "execution_count": 3,
   "metadata": {},
   "outputs": [],
   "source": [
    "from keras.preprocessing.image import ImageDataGenerator\n",
    "from keras.layers import Dense,Dropout,Activation,Conv2D,MaxPooling2D,BatchNormalization,Flatten\n",
    "from keras.models import Sequential\n",
    "from keras.optimizers import RMSprop\n",
    "from keras.callbacks import EarlyStopping,ReduceLROnPlateau,ModelCheckpoint\n",
    "from keras.models import load_model\n",
    "import cv2\n",
    "from PIL import Image\n",
    "import numpy as np\n",
    "import pandas as pd\n",
    "import os\n",
    "from keras.utils import to_categorical\n",
    "import seaborn as sns"
   ]
  },
  {
   "cell_type": "code",
   "execution_count": 4,
   "metadata": {},
   "outputs": [
    {
     "name": "stdout",
     "output_type": "stream",
     "text": [
      "train\n",
      "happy\n",
      "sad\n",
      "fear\n",
      "surprise\n",
      "neutral\n",
      "angry\n",
      "validation\n",
      "happy\n",
      "sad\n",
      "fear\n",
      "surprise\n",
      "neutral\n",
      "angry\n"
     ]
    }
   ],
   "source": [
    "import os\n",
    "import cv2\n",
    "import numpy as np\n",
    "\n",
    "int2emotions = {0:'angry',1:'fear',2:'happy',3:'neutral',4:'sad',5:'surprise'}\n",
    "emotions2int = {'angry':0,'fear':1,'happy':2,'neutral':3,'sad':4,'surprise':5}\n",
    "\n",
    "dic = {'images':[], 'labels':[], 'purpose':[]}\n",
    "\n",
    "for d in os.listdir('archive/'):\n",
    "    path_d = os.path.join('archive', d)\n",
    "    if not os.path.isdir(path_d):\n",
    "        continue  # skip files like .DS_Store\n",
    "    \n",
    "    print(d)\n",
    "    for emotion in os.listdir(path_d):\n",
    "        path_emotion = os.path.join(path_d, emotion)\n",
    "        if not os.path.isdir(path_emotion):\n",
    "            continue\n",
    "        \n",
    "        print(emotion)\n",
    "        for i in os.listdir(path_emotion):\n",
    "            img_path = os.path.join(path_emotion, i)\n",
    "            img = cv2.imread(img_path, 0)\n",
    "            if img is None:\n",
    "                continue  # skip corrupted or unreadable images\n",
    "            \n",
    "            img = img.reshape(48, 48, 1)\n",
    "            dic['images'].append(img)\n",
    "            dic['labels'].append(emotion)\n",
    "\n",
    "            dic['purpose'].append('T' if d == 'train' else 'V')\n"
   ]
  },
  {
   "cell_type": "code",
   "execution_count": 5,
   "metadata": {},
   "outputs": [
    {
     "data": {
      "text/html": [
       "<div>\n",
       "<style scoped>\n",
       "    .dataframe tbody tr th:only-of-type {\n",
       "        vertical-align: middle;\n",
       "    }\n",
       "\n",
       "    .dataframe tbody tr th {\n",
       "        vertical-align: top;\n",
       "    }\n",
       "\n",
       "    .dataframe thead th {\n",
       "        text-align: right;\n",
       "    }\n",
       "</style>\n",
       "<table border=\"1\" class=\"dataframe\">\n",
       "  <thead>\n",
       "    <tr style=\"text-align: right;\">\n",
       "      <th></th>\n",
       "      <th>images</th>\n",
       "      <th>labels</th>\n",
       "      <th>purpose</th>\n",
       "    </tr>\n",
       "  </thead>\n",
       "  <tbody>\n",
       "    <tr>\n",
       "      <th>0</th>\n",
       "      <td>[[[108], [83], [63], [65], [89], [111], [121],...</td>\n",
       "      <td>happy</td>\n",
       "      <td>T</td>\n",
       "    </tr>\n",
       "    <tr>\n",
       "      <th>1</th>\n",
       "      <td>[[[137], [142], [159], [162], [158], [134], [1...</td>\n",
       "      <td>happy</td>\n",
       "      <td>T</td>\n",
       "    </tr>\n",
       "    <tr>\n",
       "      <th>2</th>\n",
       "      <td>[[[111], [148], [155], [167], [181], [191], [1...</td>\n",
       "      <td>happy</td>\n",
       "      <td>T</td>\n",
       "    </tr>\n",
       "    <tr>\n",
       "      <th>3</th>\n",
       "      <td>[[[151], [156], [121], [100], [80], [116], [15...</td>\n",
       "      <td>happy</td>\n",
       "      <td>T</td>\n",
       "    </tr>\n",
       "    <tr>\n",
       "      <th>4</th>\n",
       "      <td>[[[248], [187], [149], [130], [97], [140], [13...</td>\n",
       "      <td>happy</td>\n",
       "      <td>T</td>\n",
       "    </tr>\n",
       "  </tbody>\n",
       "</table>\n",
       "</div>"
      ],
      "text/plain": [
       "                                              images labels purpose\n",
       "0  [[[108], [83], [63], [65], [89], [111], [121],...  happy       T\n",
       "1  [[[137], [142], [159], [162], [158], [134], [1...  happy       T\n",
       "2  [[[111], [148], [155], [167], [181], [191], [1...  happy       T\n",
       "3  [[[151], [156], [121], [100], [80], [116], [15...  happy       T\n",
       "4  [[[248], [187], [149], [130], [97], [140], [13...  happy       T"
      ]
     },
     "execution_count": 5,
     "metadata": {},
     "output_type": "execute_result"
    }
   ],
   "source": [
    "df = pd.DataFrame(dic)\n",
    "df.head()"
   ]
  },
  {
   "cell_type": "code",
   "execution_count": 6,
   "metadata": {
    "scrolled": true
   },
   "outputs": [],
   "source": [
    "train_data = df[df['purpose']=='T']\n",
    "val_data = df[df['purpose']=='V']"
   ]
  },
  {
   "cell_type": "code",
   "execution_count": 7,
   "metadata": {},
   "outputs": [
    {
     "data": {
      "text/html": [
       "<div>\n",
       "<style scoped>\n",
       "    .dataframe tbody tr th:only-of-type {\n",
       "        vertical-align: middle;\n",
       "    }\n",
       "\n",
       "    .dataframe tbody tr th {\n",
       "        vertical-align: top;\n",
       "    }\n",
       "\n",
       "    .dataframe thead th {\n",
       "        text-align: right;\n",
       "    }\n",
       "</style>\n",
       "<table border=\"1\" class=\"dataframe\">\n",
       "  <thead>\n",
       "    <tr style=\"text-align: right;\">\n",
       "      <th></th>\n",
       "      <th>images</th>\n",
       "      <th>labels</th>\n",
       "      <th>purpose</th>\n",
       "    </tr>\n",
       "  </thead>\n",
       "  <tbody>\n",
       "    <tr>\n",
       "      <th>0</th>\n",
       "      <td>[[[108], [83], [63], [65], [89], [111], [121],...</td>\n",
       "      <td>happy</td>\n",
       "      <td>T</td>\n",
       "    </tr>\n",
       "    <tr>\n",
       "      <th>1</th>\n",
       "      <td>[[[137], [142], [159], [162], [158], [134], [1...</td>\n",
       "      <td>happy</td>\n",
       "      <td>T</td>\n",
       "    </tr>\n",
       "    <tr>\n",
       "      <th>2</th>\n",
       "      <td>[[[111], [148], [155], [167], [181], [191], [1...</td>\n",
       "      <td>happy</td>\n",
       "      <td>T</td>\n",
       "    </tr>\n",
       "    <tr>\n",
       "      <th>3</th>\n",
       "      <td>[[[151], [156], [121], [100], [80], [116], [15...</td>\n",
       "      <td>happy</td>\n",
       "      <td>T</td>\n",
       "    </tr>\n",
       "    <tr>\n",
       "      <th>4</th>\n",
       "      <td>[[[248], [187], [149], [130], [97], [140], [13...</td>\n",
       "      <td>happy</td>\n",
       "      <td>T</td>\n",
       "    </tr>\n",
       "  </tbody>\n",
       "</table>\n",
       "</div>"
      ],
      "text/plain": [
       "                                              images labels purpose\n",
       "0  [[[108], [83], [63], [65], [89], [111], [121],...  happy       T\n",
       "1  [[[137], [142], [159], [162], [158], [134], [1...  happy       T\n",
       "2  [[[111], [148], [155], [167], [181], [191], [1...  happy       T\n",
       "3  [[[151], [156], [121], [100], [80], [116], [15...  happy       T\n",
       "4  [[[248], [187], [149], [130], [97], [140], [13...  happy       T"
      ]
     },
     "execution_count": 7,
     "metadata": {},
     "output_type": "execute_result"
    }
   ],
   "source": [
    "train_data.head()"
   ]
  },
  {
   "cell_type": "code",
   "execution_count": 8,
   "metadata": {},
   "outputs": [
    {
     "data": {
      "text/html": [
       "<div>\n",
       "<style scoped>\n",
       "    .dataframe tbody tr th:only-of-type {\n",
       "        vertical-align: middle;\n",
       "    }\n",
       "\n",
       "    .dataframe tbody tr th {\n",
       "        vertical-align: top;\n",
       "    }\n",
       "\n",
       "    .dataframe thead th {\n",
       "        text-align: right;\n",
       "    }\n",
       "</style>\n",
       "<table border=\"1\" class=\"dataframe\">\n",
       "  <thead>\n",
       "    <tr style=\"text-align: right;\">\n",
       "      <th></th>\n",
       "      <th>images</th>\n",
       "      <th>labels</th>\n",
       "      <th>purpose</th>\n",
       "    </tr>\n",
       "  </thead>\n",
       "  <tbody>\n",
       "    <tr>\n",
       "      <th>28273</th>\n",
       "      <td>[[[5], [4], [5], [9], [10], [9], [10], [12], [...</td>\n",
       "      <td>happy</td>\n",
       "      <td>V</td>\n",
       "    </tr>\n",
       "    <tr>\n",
       "      <th>28274</th>\n",
       "      <td>[[[19], [21], [22], [18], [20], [21], [16], [1...</td>\n",
       "      <td>happy</td>\n",
       "      <td>V</td>\n",
       "    </tr>\n",
       "    <tr>\n",
       "      <th>28275</th>\n",
       "      <td>[[[228], [229], [230], [229], [228], [227], [2...</td>\n",
       "      <td>happy</td>\n",
       "      <td>V</td>\n",
       "    </tr>\n",
       "    <tr>\n",
       "      <th>28276</th>\n",
       "      <td>[[[25], [33], [43], [30], [46], [84], [105], [...</td>\n",
       "      <td>happy</td>\n",
       "      <td>V</td>\n",
       "    </tr>\n",
       "    <tr>\n",
       "      <th>28277</th>\n",
       "      <td>[[[33], [29], [15], [15], [20], [36], [40], [5...</td>\n",
       "      <td>happy</td>\n",
       "      <td>V</td>\n",
       "    </tr>\n",
       "  </tbody>\n",
       "</table>\n",
       "</div>"
      ],
      "text/plain": [
       "                                                  images labels purpose\n",
       "28273  [[[5], [4], [5], [9], [10], [9], [10], [12], [...  happy       V\n",
       "28274  [[[19], [21], [22], [18], [20], [21], [16], [1...  happy       V\n",
       "28275  [[[228], [229], [230], [229], [228], [227], [2...  happy       V\n",
       "28276  [[[25], [33], [43], [30], [46], [84], [105], [...  happy       V\n",
       "28277  [[[33], [29], [15], [15], [20], [36], [40], [5...  happy       V"
      ]
     },
     "execution_count": 8,
     "metadata": {},
     "output_type": "execute_result"
    }
   ],
   "source": [
    "val_data.head()"
   ]
  },
  {
   "cell_type": "code",
   "execution_count": 9,
   "metadata": {
    "scrolled": true
   },
   "outputs": [
    {
     "data": {
      "text/plain": [
       "happy       7215\n",
       "neutral     4965\n",
       "sad         4830\n",
       "fear        4097\n",
       "angry       3995\n",
       "surprise    3171\n",
       "Name: labels, dtype: int64"
      ]
     },
     "execution_count": 9,
     "metadata": {},
     "output_type": "execute_result"
    }
   ],
   "source": [
    "train_data['labels'].value_counts()"
   ]
  },
  {
   "cell_type": "code",
   "execution_count": 10,
   "metadata": {},
   "outputs": [
    {
     "data": {
      "text/plain": [
       "happy       1774\n",
       "sad         1247\n",
       "neutral     1233\n",
       "fear        1024\n",
       "angry        958\n",
       "surprise     831\n",
       "Name: labels, dtype: int64"
      ]
     },
     "execution_count": 10,
     "metadata": {},
     "output_type": "execute_result"
    }
   ],
   "source": [
    "val_data['labels'].value_counts()"
   ]
  },
  {
   "cell_type": "code",
   "execution_count": null,
   "metadata": {},
   "outputs": [
    {
     "data": {
      "text/html": [
       "<div>\n",
       "<style scoped>\n",
       "    .dataframe tbody tr th:only-of-type {\n",
       "        vertical-align: middle;\n",
       "    }\n",
       "\n",
       "    .dataframe tbody tr th {\n",
       "        vertical-align: top;\n",
       "    }\n",
       "\n",
       "    .dataframe thead th {\n",
       "        text-align: right;\n",
       "    }\n",
       "</style>\n",
       "<table border=\"1\" class=\"dataframe\">\n",
       "  <thead>\n",
       "    <tr style=\"text-align: right;\">\n",
       "      <th></th>\n",
       "      <th>images</th>\n",
       "      <th>labels</th>\n",
       "      <th>purpose</th>\n",
       "    </tr>\n",
       "  </thead>\n",
       "  <tbody>\n",
       "    <tr>\n",
       "      <th>0</th>\n",
       "      <td>[[[124], [82], [26], [13], [8], [15], [46], [9...</td>\n",
       "      <td>sad</td>\n",
       "      <td>T</td>\n",
       "    </tr>\n",
       "    <tr>\n",
       "      <th>1</th>\n",
       "      <td>[[[137], [74], [44], [56], [87], [147], [141],...</td>\n",
       "      <td>fear</td>\n",
       "      <td>T</td>\n",
       "    </tr>\n",
       "    <tr>\n",
       "      <th>2</th>\n",
       "      <td>[[[214], [196], [201], [207], [209], [220], [2...</td>\n",
       "      <td>sad</td>\n",
       "      <td>T</td>\n",
       "    </tr>\n",
       "    <tr>\n",
       "      <th>3</th>\n",
       "      <td>[[[181], [181], [173], [106], [128], [168], [1...</td>\n",
       "      <td>sad</td>\n",
       "      <td>T</td>\n",
       "    </tr>\n",
       "    <tr>\n",
       "      <th>4</th>\n",
       "      <td>[[[104], [142], [135], [150], [171], [193], [2...</td>\n",
       "      <td>neutral</td>\n",
       "      <td>T</td>\n",
       "    </tr>\n",
       "  </tbody>\n",
       "</table>\n",
       "</div>"
      ],
      "text/plain": [
       "                                              images   labels purpose\n",
       "0  [[[124], [82], [26], [13], [8], [15], [46], [9...      sad       T\n",
       "1  [[[137], [74], [44], [56], [87], [147], [141],...     fear       T\n",
       "2  [[[214], [196], [201], [207], [209], [220], [2...      sad       T\n",
       "3  [[[181], [181], [173], [106], [128], [168], [1...      sad       T\n",
       "4  [[[104], [142], [135], [150], [171], [193], [2...  neutral       T"
      ]
     },
     "execution_count": 11,
     "metadata": {},
     "output_type": "execute_result"
    }
   ],
   "source": [
    "happy_df = train_data[train_data['labels']=='happy'].sample(n=3171)\n",
    "neutral_df = train_data[train_data['labels']=='neutral'].sample(n=3171)\n",
    "sad_df = train_data[train_data['labels']=='sad'].sample(n=3171)\n",
    "fear_df = train_data[train_data['labels']=='fear'].sample(n=3171)\n",
    "angry_df = train_data[train_data['labels']=='angry'].sample(n=3171)\n",
    "surprise_df = train_data[train_data['labels']=='surprise'].sample(n=3171)\n",
    "#repeat for all classes, then combine and shuffle\n",
    "train_data = pd.concat([happy_df,neutral_df,sad_df,fear_df,angry_df,surprise_df])\n",
    "\n",
    "train_data = train_data.sample(frac=1)\n",
    "train_data.reset_index(inplace=True)\n",
    "train_data.drop('index',inplace=True,axis=1)\n",
    "\n",
    "train_data.head()"
   ]
  },
  {
   "cell_type": "code",
   "execution_count": 12,
   "metadata": {},
   "outputs": [
    {
     "data": {
      "text/plain": [
       "sad         3171\n",
       "fear        3171\n",
       "neutral     3171\n",
       "happy       3171\n",
       "surprise    3171\n",
       "angry       3171\n",
       "Name: labels, dtype: int64"
      ]
     },
     "execution_count": 12,
     "metadata": {},
     "output_type": "execute_result"
    }
   ],
   "source": [
    "train_data['labels'].value_counts()"
   ]
  },
  {
   "cell_type": "code",
   "execution_count": 13,
   "metadata": {},
   "outputs": [
    {
     "data": {
      "text/plain": [
       "<Axes: xlabel='count', ylabel='labels'>"
      ]
     },
     "execution_count": 13,
     "metadata": {},
     "output_type": "execute_result"
    },
    {
     "data": {
      "image/png": "[encoded data removed]",
      "text/plain": [
       "<Figure size 640x480 with 1 Axes>"
      ]
     },
     "metadata": {},
     "output_type": "display_data"
    }
   ],
   "source": [
    "sns.countplot(train_data['labels'])"
   ]
  },
  {
   "cell_type": "code",
   "execution_count": 14,
   "metadata": {},
   "outputs": [],
   "source": [
    "batch_size= 32\n",
    "classes = 6\n",
    "rows,columns=48,48"
   ]
  },
  {
   "cell_type": "code",
   "execution_count": null,
   "metadata": {},
   "outputs": [],
   "source": [
    "\n",
    "\n",
    "# Map labels to integers\n",
    "train_labels = train_data['labels'].map(emotions2int)\n",
    "val_labels = val_data['labels'].map(emotions2int)\n",
    "\n",
    "# Check for NaN values after mapping\n",
    "if train_labels.isna().sum() > 0:\n",
    "    print(\"Warning: Some labels were not mapped correctly. Check your label names.\")\n",
    "\n",
    "# Convert to categorical\n",
    "train_labels = to_categorical(train_labels, num_classes=classes)\n",
    "val_labels = to_categorical(val_labels, num_classes=classes)\n",
    "\n",
    "\n",
    "\n"
   ]
  },
  {
   "cell_type": "code",
   "execution_count": 16,
   "metadata": {},
   "outputs": [],
   "source": [
    "train_data = list(train_data['images'])\n",
    "train_data = np.array(train_data)\n",
    "\n",
    "val_data = list(val_data['images'])\n",
    "val_data = np.array(val_data)"
   ]
  },
  {
   "cell_type": "code",
   "execution_count": 17,
   "metadata": {},
   "outputs": [
    {
     "data": {
      "text/plain": [
       "(19026, 48, 48, 1)"
      ]
     },
     "execution_count": 17,
     "metadata": {},
     "output_type": "execute_result"
    }
   ],
   "source": [
    "train_data.shape"
   ]
  },
  {
   "cell_type": "code",
   "execution_count": 18,
   "metadata": {},
   "outputs": [
    {
     "data": {
      "text/plain": [
       "(7067, 48, 48, 1)"
      ]
     },
     "execution_count": 18,
     "metadata": {},
     "output_type": "execute_result"
    }
   ],
   "source": [
    "val_data.shape"
   ]
  },
  {
   "cell_type": "code",
   "execution_count": 19,
   "metadata": {},
   "outputs": [
    {
     "name": "stdout",
     "output_type": "stream",
     "text": [
      "Found 28273 images belonging to 6 classes.\n",
      "Found 7067 images belonging to 6 classes.\n"
     ]
    }
   ],
   "source": [
    "batch_size= 32\n",
    "classes = 6\n",
    "rows,columns=48,48\n",
    "\n",
    "train_dir = 'archive/train' \n",
    "validation_dir = 'archive/validation'\n",
    "\n",
    "train_gen = ImageDataGenerator(rescale=1./255,\n",
    "                              rotation_range=45,\n",
    "                              height_shift_range=0.3,\n",
    "                              width_shift_range=0.3,\n",
    "                              shear_range=0.2,\n",
    "                              horizontal_flip=True,\n",
    "                              fill_mode='nearest')\n",
    "\n",
    "validation_gen = ImageDataGenerator(rescale=1./255)\n",
    "\n",
    "training_data_generator = train_gen.flow_from_directory(train_dir,\n",
    "                                                       batch_size=batch_size,\n",
    "                                                       shuffle=True,\n",
    "                                                       color_mode='grayscale',\n",
    "                                                       class_mode='categorical',\n",
    "                                                       target_size=(rows,columns))\n",
    "\n",
    "valiadtion_data_generator = validation_gen.flow_from_directory(validation_dir,\n",
    "                                                       batch_size=batch_size,\n",
    "                                                       shuffle=False,\n",
    "                                                       color_mode='grayscale',\n",
    "                                                       class_mode='categorical',\n",
    "                                                       target_size=(rows,columns))\n",
    "\n",
    "\n"
   ]
  },
  {
   "cell_type": "markdown",
   "metadata": {},
   "source": [
    "## Creating Our Model"
   ]
  },
  {
   "cell_type": "code",
   "execution_count": null,
   "metadata": {},
   "outputs": [
    {
     "name": "stderr",
     "output_type": "stream",
     "text": [
      "2025-04-28 12:00:57.891945: I metal_plugin/src/device/metal_device.cc:1154] Metal device set to: Apple M2\n",
      "2025-04-28 12:00:57.892128: I metal_plugin/src/device/metal_device.cc:296] systemMemory: 8.00 GB\n",
      "2025-04-28 12:00:57.892133: I metal_plugin/src/device/metal_device.cc:313] maxCacheSize: 2.67 GB\n",
      "2025-04-28 12:00:57.892379: I tensorflow/core/common_runtime/pluggable_device/pluggable_device_factory.cc:306] Could not identify NUMA node of platform GPU ID 0, defaulting to 0. Your kernel may not have been built with NUMA support.\n",
      "2025-04-28 12:00:57.892800: I tensorflow/core/common_runtime/pluggable_device/pluggable_device_factory.cc:272] Created TensorFlow device (/job:localhost/replica:0/task:0/device:GPU:0 with 0 MB memory) -> physical PluggableDevice (device: 0, name: METAL, pci bus id: <undefined>)\n"
     ]
    },
    {
     "name": "stdout",
     "output_type": "stream",
     "text": [
      "Model: \"sequential\"\n",
      "_________________________________________________________________\n",
      " Layer (type)                Output Shape              Param #   \n",
      "=================================================================\n",
      " conv2d (Conv2D)             (None, 48, 48, 64)        640       \n",
      "                                                                 \n",
      " batch_normalization (Batch  (None, 48, 48, 64)        256       \n",
      " Normalization)                                                  \n",
      "                                                                 \n",
      " conv2d_1 (Conv2D)           (None, 48, 48, 64)        36928     \n",
      "                                                                 \n",
      " batch_normalization_1 (Bat  (None, 48, 48, 64)        256       \n",
      " chNormalization)                                                \n",
      "                                                                 \n",
      " max_pooling2d (MaxPooling2  (None, 24, 24, 64)        0         \n",
      " D)                                                              \n",
      "                                                                 \n",
      " dropout (Dropout)           (None, 24, 24, 64)        0         \n",
      "                                                                 \n",
      " conv2d_2 (Conv2D)           (None, 24, 24, 128)       73856     \n",
      "                                                                 \n",
      " batch_normalization_2 (Bat  (None, 24, 24, 128)       512       \n",
      " chNormalization)                                                \n",
      "                                                                 \n",
      " conv2d_3 (Conv2D)           (None, 24, 24, 128)       147584    \n",
      "                                                                 \n",
      " batch_normalization_3 (Bat  (None, 24, 24, 128)       512       \n",
      " chNormalization)                                                \n",
      "                                                                 \n",
      " max_pooling2d_1 (MaxPoolin  (None, 12, 12, 128)       0         \n",
      " g2D)                                                            \n",
      "                                                                 \n",
      " dropout_1 (Dropout)         (None, 12, 12, 128)       0         \n",
      "                                                                 \n",
      " conv2d_4 (Conv2D)           (None, 12, 12, 256)       295168    \n",
      "                                                                 \n",
      " batch_normalization_4 (Bat  (None, 12, 12, 256)       1024      \n",
      " chNormalization)                                                \n",
      "                                                                 \n",
      " conv2d_5 (Conv2D)           (None, 12, 12, 256)       590080    \n",
      "                                                                 \n",
      " batch_normalization_5 (Bat  (None, 12, 12, 256)       1024      \n",
      " chNormalization)                                                \n",
      "                                                                 \n",
      " max_pooling2d_2 (MaxPoolin  (None, 6, 6, 256)         0         \n",
      " g2D)                                                            \n",
      "                                                                 \n",
      " dropout_2 (Dropout)         (None, 6, 6, 256)         0         \n",
      "                                                                 \n",
      " conv2d_6 (Conv2D)           (None, 6, 6, 512)         1180160   \n",
      "                                                                 \n",
      " batch_normalization_6 (Bat  (None, 6, 6, 512)         2048      \n",
      " chNormalization)                                                \n",
      "                                                                 \n",
      " conv2d_7 (Conv2D)           (None, 6, 6, 512)         2359808   \n",
      "                                                                 \n",
      " batch_normalization_7 (Bat  (None, 6, 6, 512)         2048      \n",
      " chNormalization)                                                \n",
      "                                                                 \n",
      " max_pooling2d_3 (MaxPoolin  (None, 3, 3, 512)         0         \n",
      " g2D)                                                            \n",
      "                                                                 \n",
      " dropout_3 (Dropout)         (None, 3, 3, 512)         0         \n",
      "                                                                 \n",
      " flatten (Flatten)           (None, 4608)              0         \n",
      "                                                                 \n",
      " dense (Dense)               (None, 256)               1179904   \n",
      "                                                                 \n",
      " batch_normalization_8 (Bat  (None, 256)               1024      \n",
      " chNormalization)                                                \n",
      "                                                                 \n",
      " dropout_4 (Dropout)         (None, 256)               0         \n",
      "                                                                 \n",
      " dense_1 (Dense)             (None, 128)               32896     \n",
      "                                                                 \n",
      " batch_normalization_9 (Bat  (None, 128)               512       \n",
      " chNormalization)                                                \n",
      "                                                                 \n",
      " dropout_5 (Dropout)         (None, 128)               0         \n",
      "                                                                 \n",
      " dense_2 (Dense)             (None, 64)                8256      \n",
      "                                                                 \n",
      " batch_normalization_10 (Ba  (None, 64)                256       \n",
      " tchNormalization)                                               \n",
      "                                                                 \n",
      " dropout_6 (Dropout)         (None, 64)                0         \n",
      "                                                                 \n",
      " dense_3 (Dense)             (None, 6)                 390       \n",
      "                                                                 \n",
      "=================================================================\n",
      "Total params: 5915142 (22.56 MB)\n",
      "Trainable params: 5910406 (22.55 MB)\n",
      "Non-trainable params: 4736 (18.50 KB)\n",
      "_________________________________________________________________\n",
      "None\n"
     ]
    }
   ],
   "source": [
    "model = Sequential()\n",
    "\n",
    "# First Block\n",
    "model.add(Conv2D(64,(3,3),activation='relu',input_shape=(rows,columns,1),kernel_initializer='he_normal',padding='same'))\n",
    "model.add(BatchNormalization())\n",
    "model.add(Conv2D(64,(3,3),activation='relu',input_shape=(rows,columns,1),kernel_initializer='he_normal',padding='same'))\n",
    "model.add(BatchNormalization())\n",
    "model.add(MaxPooling2D(pool_size=(2,2)))\n",
    "model.add(Dropout(0.2))\n",
    "\n",
    "# Second Block\n",
    "model.add(Conv2D(128,(3,3),activation='relu',kernel_initializer='he_normal',padding='same'))\n",
    "model.add(BatchNormalization())\n",
    "model.add(Conv2D(128,(3,3),activation='relu',kernel_initializer='he_normal',padding='same'))\n",
    "model.add(BatchNormalization())\n",
    "model.add(MaxPooling2D(pool_size=(2,2)))\n",
    "model.add(Dropout(0.2))\n",
    "\n",
    "# Third Block\n",
    "model.add(Conv2D(256,(3,3),activation='relu',kernel_initializer='he_normal',padding='same'))\n",
    "model.add(BatchNormalization())\n",
    "model.add(Conv2D(256,(3,3),activation='relu',kernel_initializer='he_normal',padding='same'))\n",
    "model.add(BatchNormalization())\n",
    "model.add(MaxPooling2D(pool_size=(2,2)))\n",
    "model.add(Dropout(0.2))\n",
    "\n",
    "# Fourth Block\n",
    "model.add(Conv2D(512,(3,3),activation='relu',kernel_initializer='he_normal',padding='same'))\n",
    "model.add(BatchNormalization())\n",
    "model.add(Conv2D(512,(3,3),activation='relu',kernel_initializer='he_normal',padding='same'))\n",
    "model.add(BatchNormalization())\n",
    "model.add(MaxPooling2D(pool_size=(2,2)))\n",
    "model.add(Dropout(0.2))\n",
    "\n",
    "# Fifth Block\n",
    "model.add(Flatten())\n",
    "model.add(Dense(256,activation='relu',kernel_initializer='he_normal'))\n",
    "model.add(BatchNormalization())\n",
    "model.add(Dropout(0.5))\n",
    "\n",
    "# Sixth Block\n",
    "model.add(Dense(128,activation='relu',kernel_initializer='he_normal'))\n",
    "model.add(BatchNormalization())\n",
    "model.add(Dropout(0.5))\n",
    "\n",
    "# Seventh Block\n",
    "model.add(Dense(64,activation='relu',kernel_initializer='he_normal'))\n",
    "model.add(BatchNormalization())\n",
    "model.add(Dropout(0.5))\n",
    "\n",
    "# Eighth Block\n",
    "model.add(Dense(classes,activation='softmax',kernel_initializer='he_normal'))\n",
    "\n",
    "print(model.summary())"
   ]
  },
  {
   "cell_type": "code",
   "execution_count": 21,
   "metadata": {},
   "outputs": [],
   "source": [
    "checkpoint = ModelCheckpoint('model/6_class_emotion_detector_V2.h5',\n",
    "                             save_best_only=True,\n",
    "                             mode='min',\n",
    "                             monitor='val_loss',\n",
    "                             verbose=1)\n",
    "\n",
    "earlystopping = EarlyStopping(patience=10,\n",
    "                             verbose=1,\n",
    "                             min_delta=0,\n",
    "                             monitor='val_loss',\n",
    "                             restore_best_weights=True)\n",
    "\n",
    "\n",
    "callbacks = [checkpoint, earlystopping]\n",
    "\n",
    "model.compile(metrics=['accuracy'],\n",
    "             optimizer='rmsprop',\n",
    "             loss='categorical_crossentropy')\n",
    "\n",
    "train_samples = 28273\n",
    "validation_samples = 3534\n",
    "batch_size = 64\n",
    "epochs=30"
   ]
  },
  {
   "cell_type": "markdown",
   "metadata": {},
   "source": [
    "# Training Our Model"
   ]
  },
  {
   "cell_type": "code",
   "execution_count": 22,
   "metadata": {
    "scrolled": true
   },
   "outputs": [
    {
     "name": "stdout",
     "output_type": "stream",
     "text": [
      "Epoch 1/30\n"
     ]
    },
    {
     "name": "stderr",
     "output_type": "stream",
     "text": [
      "2025-04-28 12:01:13.993784: I tensorflow/core/grappler/optimizers/custom_graph_optimizer_registry.cc:117] Plugin optimizer for device_type GPU is enabled.\n"
     ]
    },
    {
     "name": "stdout",
     "output_type": "stream",
     "text": [
      "441/441 [==============================] - ETA: 0s - loss: 2.2094 - accuracy: 0.1854\n",
      "Epoch 1: val_loss improved from inf to 1.87157, saving model to model/6_class_emotion_detector_V2.h5\n",
      "441/441 [==============================] - 108s 237ms/step - loss: 2.2094 - accuracy: 0.1854 - val_loss: 1.8716 - val_accuracy: 0.2152\n",
      "Epoch 2/30\n"
     ]
    },
    {
     "name": "stderr",
     "output_type": "stream",
     "text": [
      "/Library/Frameworks/Python.framework/Versions/3.11/lib/python3.11/site-packages/keras/src/engine/training.py:3103: UserWarning: You are saving your model as an HDF5 file via `model.save()`. This file format is considered legacy. We recommend using instead the native Keras format, e.g. `model.save('my_model.keras')`.\n",
      "  saving_api.save_model(\n"
     ]
    },
    {
     "name": "stdout",
     "output_type": "stream",
     "text": [
      "441/441 [==============================] - ETA: 0s - loss: 1.7159 - accuracy: 0.2805\n",
      "Epoch 2: val_loss improved from 1.87157 to 1.74225, saving model to model/6_class_emotion_detector_V2.h5\n",
      "441/441 [==============================] - 106s 240ms/step - loss: 1.7159 - accuracy: 0.2805 - val_loss: 1.7423 - val_accuracy: 0.2964\n",
      "Epoch 3/30\n",
      "441/441 [==============================] - ETA: 0s - loss: 1.4622 - accuracy: 0.4099\n",
      "Epoch 3: val_loss improved from 1.74225 to 1.38900, saving model to model/6_class_emotion_detector_V2.h5\n",
      "441/441 [==============================] - 108s 245ms/step - loss: 1.4622 - accuracy: 0.4099 - val_loss: 1.3890 - val_accuracy: 0.4481\n",
      "Epoch 4/30\n",
      "441/441 [==============================] - ETA: 0s - loss: 1.3110 - accuracy: 0.4861\n",
      "Epoch 4: val_loss improved from 1.38900 to 1.30820, saving model to model/6_class_emotion_detector_V2.h5\n",
      "441/441 [==============================] - 108s 245ms/step - loss: 1.3110 - accuracy: 0.4861 - val_loss: 1.3082 - val_accuracy: 0.4910\n",
      "Epoch 5/30\n",
      "441/441 [==============================] - ETA: 0s - loss: 1.2393 - accuracy: 0.5227\n",
      "Epoch 5: val_loss improved from 1.30820 to 1.16706, saving model to model/6_class_emotion_detector_V2.h5\n",
      "441/441 [==============================] - 109s 247ms/step - loss: 1.2393 - accuracy: 0.5227 - val_loss: 1.1671 - val_accuracy: 0.5536\n",
      "Epoch 6/30\n",
      "441/441 [==============================] - ETA: 0s - loss: 1.1678 - accuracy: 0.5549\n",
      "Epoch 6: val_loss did not improve from 1.16706\n",
      "441/441 [==============================] - 112s 254ms/step - loss: 1.1678 - accuracy: 0.5549 - val_loss: 1.1721 - val_accuracy: 0.5548\n",
      "Epoch 7/30\n",
      "441/441 [==============================] - ETA: 0s - loss: 1.1100 - accuracy: 0.5821\n",
      "Epoch 7: val_loss improved from 1.16706 to 1.10988, saving model to model/6_class_emotion_detector_V2.h5\n",
      "441/441 [==============================] - 111s 252ms/step - loss: 1.1100 - accuracy: 0.5821 - val_loss: 1.1099 - val_accuracy: 0.5758\n",
      "Epoch 8/30\n",
      "441/441 [==============================] - ETA: 0s - loss: 1.0473 - accuracy: 0.6106\n",
      "Epoch 8: val_loss improved from 1.10988 to 1.08774, saving model to model/6_class_emotion_detector_V2.h5\n",
      "441/441 [==============================] - 108s 245ms/step - loss: 1.0473 - accuracy: 0.6106 - val_loss: 1.0877 - val_accuracy: 0.5929\n",
      "Epoch 9/30\n",
      "441/441 [==============================] - ETA: 0s - loss: 0.9741 - accuracy: 0.6445\n",
      "Epoch 9: val_loss did not improve from 1.08774\n",
      "441/441 [==============================] - 109s 247ms/step - loss: 0.9741 - accuracy: 0.6445 - val_loss: 1.1353 - val_accuracy: 0.5802\n",
      "Epoch 10/30\n",
      "441/441 [==============================] - ETA: 0s - loss: 0.9006 - accuracy: 0.6768\n",
      "Epoch 10: val_loss did not improve from 1.08774\n",
      "441/441 [==============================] - 106s 241ms/step - loss: 0.9006 - accuracy: 0.6768 - val_loss: 1.0944 - val_accuracy: 0.6058\n",
      "Epoch 11/30\n",
      "441/441 [==============================] - ETA: 0s - loss: 0.8161 - accuracy: 0.7114\n",
      "Epoch 11: val_loss did not improve from 1.08774\n",
      "441/441 [==============================] - 108s 244ms/step - loss: 0.8161 - accuracy: 0.7114 - val_loss: 1.1668 - val_accuracy: 0.5974\n",
      "Epoch 12/30\n",
      "441/441 [==============================] - ETA: 0s - loss: 0.7399 - accuracy: 0.7420\n",
      "Epoch 12: val_loss did not improve from 1.08774\n",
      "441/441 [==============================] - 105s 239ms/step - loss: 0.7399 - accuracy: 0.7420 - val_loss: 1.1797 - val_accuracy: 0.6003\n",
      "Epoch 13/30\n",
      "441/441 [==============================] - ETA: 0s - loss: 0.6542 - accuracy: 0.7770\n",
      "Epoch 13: val_loss did not improve from 1.08774\n",
      "441/441 [==============================] - 106s 241ms/step - loss: 0.6542 - accuracy: 0.7770 - val_loss: 1.2672 - val_accuracy: 0.5949\n",
      "Epoch 14/30\n",
      "441/441 [==============================] - ETA: 0s - loss: 0.5852 - accuracy: 0.8034\n",
      "Epoch 14: val_loss did not improve from 1.08774\n",
      "441/441 [==============================] - 106s 240ms/step - loss: 0.5852 - accuracy: 0.8034 - val_loss: 1.3626 - val_accuracy: 0.6010\n",
      "Epoch 15/30\n",
      "441/441 [==============================] - ETA: 0s - loss: 0.5097 - accuracy: 0.8334\n",
      "Epoch 15: val_loss did not improve from 1.08774\n",
      "441/441 [==============================] - 106s 240ms/step - loss: 0.5097 - accuracy: 0.8334 - val_loss: 1.3280 - val_accuracy: 0.6031\n",
      "Epoch 16/30\n",
      "441/441 [==============================] - ETA: 0s - loss: 0.4481 - accuracy: 0.8544\n",
      "Epoch 16: val_loss did not improve from 1.08774\n",
      "441/441 [==============================] - 105s 239ms/step - loss: 0.4481 - accuracy: 0.8544 - val_loss: 1.4609 - val_accuracy: 0.5901\n",
      "Epoch 17/30\n",
      "441/441 [==============================] - ETA: 0s - loss: 0.3876 - accuracy: 0.8747\n",
      "Epoch 17: val_loss did not improve from 1.08774\n",
      "441/441 [==============================] - 110s 249ms/step - loss: 0.3876 - accuracy: 0.8747 - val_loss: 1.4456 - val_accuracy: 0.5983\n",
      "Epoch 18/30\n",
      "441/441 [==============================] - ETA: 0s - loss: 0.3578 - accuracy: 0.8845\n",
      "Epoch 18: val_loss did not improve from 1.08774\n",
      "Restoring model weights from the end of the best epoch: 8.\n",
      "441/441 [==============================] - 108s 244ms/step - loss: 0.3578 - accuracy: 0.8845 - val_loss: 1.5955 - val_accuracy: 0.6062\n",
      "Epoch 18: early stopping\n"
     ]
    }
   ],
   "source": [
    "history = model.fit(train_data,\n",
    "                    train_labels,\n",
    "                    epochs=epochs,\n",
    "                    steps_per_epoch=train_samples//batch_size,\n",
    "                    validation_data=(val_data,val_labels),\n",
    "                    validation_steps=validation_samples//batch_size,\n",
    "                    callbacks=callbacks)"
   ]
  },
  {
   "cell_type": "code",
   "execution_count": 24,
   "metadata": {},
   "outputs": [
    {
     "data": {
      "image/png": "[encoded data removed]",
      "text/plain": [
       "<Figure size 1000x600 with 1 Axes>"
      ]
     },
     "metadata": {},
     "output_type": "display_data"
    },
    {
     "data": {
      "image/png": "[encoded data removed]",
      "text/plain": [
       "<Figure size 1000x600 with 1 Axes>"
      ]
     },
     "metadata": {},
     "output_type": "display_data"
    }
   ],
   "source": [
    "import matplotlib.pyplot as plt\n",
    "\n",
    "# Get the number of epochs from the length of the loss history\n",
    "num_epochs = len(history.history['loss'])  # Or len(history.history['accuracy'])\n",
    "\n",
    "# Define the epochs range\n",
    "epochs = range(1, num_epochs + 1)\n",
    "\n",
    "# Extract loss and accuracy values from the history object\n",
    "train_loss = history.history['loss']\n",
    "val_loss = history.history['val_loss']\n",
    "train_accuracy = history.history['accuracy']\n",
    "val_accuracy = history.history['val_accuracy']\n",
    "\n",
    "# Plot training and validation loss\n",
    "plt.figure(figsize=(10, 6))\n",
    "plt.plot(epochs, train_loss, label='Training Loss', color='blue', marker='o')\n",
    "plt.plot(epochs, val_loss, label='Validation Loss', color='red', marker='x')\n",
    "plt.title('Epoch vs. Loss')\n",
    "plt.xlabel('Epochs')\n",
    "plt.ylabel('Loss')\n",
    "plt.legend()\n",
    "plt.grid(True)\n",
    "plt.show()\n",
    "\n",
    "# Plot training and validation accuracy\n",
    "plt.figure(figsize=(10, 6))\n",
    "plt.plot(epochs, train_accuracy, label='Training Accuracy', color='green', marker='o')\n",
    "plt.plot(epochs, val_accuracy, label='Validation Accuracy', color='orange', marker='x')\n",
    "plt.title('Epoch vs. Accuracy')\n",
    "plt.xlabel('Epochs')\n",
    "plt.ylabel('Accuracy')\n",
    "plt.legend()\n",
    "plt.grid(True)\n",
    "plt.show()\n"
   ]
  }
 ],
 "metadata": {
  "kernelspec": {
   "display_name": "Python 3",
   "language": "python",
   "name": "python3"
  },
  "language_info": {
   "codemirror_mode": {
    "name": "ipython",
    "version": 3
   },
   "file_extension": ".py",
   "mimetype": "text/x-python",
   "name": "python",
   "nbconvert_exporter": "python",
   "pygments_lexer": "ipython3",
   "version": "3.11.2"
  }
 },
 "nbformat": 4,
 "nbformat_minor": 2
}
